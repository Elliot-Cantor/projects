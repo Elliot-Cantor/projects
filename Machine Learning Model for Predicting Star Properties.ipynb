{
 "cells": [
  {
   "cell_type": "markdown",
   "metadata": {},
   "source": [
    "# Machine Learning Model for Predicting Star Properties\n",
    "## Elliot Cantor"
   ]
  },
  {
   "cell_type": "code",
   "execution_count": 4,
   "metadata": {
    "scrolled": true
   },
   "outputs": [
    {
     "name": "stdout",
     "output_type": "stream",
     "text": [
      "env: SDSS_LOCAL_SAS_MIRROR=/SDSS_LOCAL_SAS_MIRROR\n",
      "env: RESULTS_VERS=l31c.2\n",
      "env: APOGEE_APOKASC_REDUX=v6.2a\n"
     ]
    }
   ],
   "source": [
    "%env SDSS_LOCAL_SAS_MIRROR /SDSS_LOCAL_SAS_MIRROR\n",
    "%env RESULTS_VERS l31c.2\n",
    "%env APOGEE_APOKASC_REDUX v6.2a"
   ]
  },
  {
   "cell_type": "code",
   "execution_count": 8,
   "metadata": {
    "scrolled": false
   },
   "outputs": [],
   "source": [
    "import os, sys, math, gc\n",
    "from collections import Counter\n",
    "import numpy as np\n",
    "import pandas as pd\n",
    "import scipy.optimize\n",
    "import matplotlib.pyplot as plt\n",
    "%matplotlib inline\n",
    "import astropy\n",
    "from astropy import units as u\n",
    "from astropy.coordinates import SkyCoord\n",
    "from astropy.io.votable import parse\n",
    "from astroquery.utils.tap.core import TapPlus\n",
    "from astropy.stats import LombScargle\n",
    "from astropy.io import fits\n",
    "import emcee\n",
    "import corner\n",
    "from scipy.optimize import minimize\n",
    "import urllib\n",
    "from apogee.spec import continuum as cont\n",
    "#import mpld3\n",
    "#mpld3.enable_notebook()\n",
    "\n",
    "plt.style.use('ggplot')\n",
    "plt.rcParams['figure.figsize'] = [12, 6]\n",
    "\n",
    "import warnings\n",
    "warnings.filterwarnings('ignore')\n",
    "\n",
    "#Constants in MKS\n",
    "mSun     = 1.989 * (10**30)      #sun mass\n",
    "mJup     = 1.898 * (10**27)      #jupiter mass\n",
    "mEarth   = 5.972 * (10**24)      #earth mass\n",
    "rSun     = 695.508 * (10**6)     #sun radius\n",
    "rJup     = 69.911 * (10**6)      #jupiter radius\n",
    "rEarth   = 6378000               #earth radius\n",
    "rNep     = (49528 / 2) * (10**3) #neptune radius\n",
    "AU       = 1.496 * (10**11)      #au\n",
    "G        = 6.67 * 10**(-11)      #gravitational constant\n",
    "SB       = 5.67 * (10**-8)       #stephen-boltzman constant\n",
    "insEarth = 1362                  #insolation flux of earth\n",
    "\n",
    "rnd        = np.random.RandomState(42)"
   ]
  },
  {
   "cell_type": "code",
   "execution_count": 9,
   "metadata": {},
   "outputs": [],
   "source": [
    "loc_ids = [4230, 4262, 5162, 4241]"
   ]
  },
  {
   "cell_type": "code",
   "execution_count": null,
   "metadata": {
    "scrolled": true
   },
   "outputs": [],
   "source": [
    "sizes   = []\n",
    "\n",
    "for ID in loc_ids:\n",
    "    path = str(ID)\n",
    "    os.mkdir(path)\n",
    "    os.chdir(path)\n",
    "    urlpath = urllib.request.urlopen(f'https://data.sdss.org/sas/dr14/apogee/spectro/redux/r8/stars/apo25m/{ID}/')\n",
    "    dirty = urlpath.read().decode('utf-8')\n",
    "    stringends = dirty.split('>')\n",
    "    ends = [end[:-3] for end in stringends if (end[0:9] == 'apStar-r8') and (len(end) < 42)]\n",
    "    sizes.append(len(ends))\n",
    "    for end in ends:\n",
    "        urllib.request.urlretrieve(f'https://data.sdss.org/sas/dr14/apogee/spectro/redux/r8/stars/apo25m/{ID}/{end}', f'{end}')\n",
    "    os.chdir('..')"
   ]
  },
  {
   "cell_type": "code",
   "execution_count": 11,
   "metadata": {},
   "outputs": [
    {
     "name": "stdout",
     "output_type": "stream",
     "text": [
      "The total number of fits files is: 2721\n"
     ]
    }
   ],
   "source": [
    "print(f'The total number of fits files is: {sum([len(os.listdir(str(id))) for id in loc_ids])}')"
   ]
  },
  {
   "cell_type": "code",
   "execution_count": 12,
   "metadata": {},
   "outputs": [],
   "source": [
    "fit = fits.open('4230/apStar-r8-2M21233217+1211528.fits')"
   ]
  },
  {
   "cell_type": "code",
   "execution_count": 15,
   "metadata": {},
   "outputs": [
    {
     "name": "stdout",
     "output_type": "stream",
     "text": [
      "The wavelengths go from 15100.801541641493 Angstroms to 16999.807358923248 Angstroms.\n"
     ]
    }
   ],
   "source": [
    "wavelengths = []\n",
    "log_start = 4.179\n",
    "log_disp  = 6e-6\n",
    "for i in range(len(fit[1].data[0])):\n",
    "    wavelengths.append(log_start + (log_disp * i))\n",
    "\n",
    "wavelengths = 10 ** np.asarray(wavelengths)\n",
    "print(f'The wavelengths go from {wavelengths.min()} Angstroms to {wavelengths.max()} Angstroms.')"
   ]
  },
  {
   "cell_type": "code",
   "execution_count": 17,
   "metadata": {},
   "outputs": [],
   "source": [
    "### Matching all of the data\n",
    "\n",
    "obj_ids = []\n",
    "teff    = []\n",
    "eteff   = []\n",
    "logg    = []\n",
    "elogg   = []\n",
    "FeH     = []\n",
    "eFeH    = []\n",
    "MgFe    = []\n",
    "eMgFe   = []\n",
    "SiFe    = []\n",
    "eSiFe   = []\n",
    "snr     = []\n",
    "\n",
    "### Gathering labels for the spectra\n",
    "\n",
    "for j in range(len(loc_ids)):\n",
    "    for i in range(len(os.listdir(f'{loc_ids[j]}'))):\n",
    "        strstart = f'apogee.apo25m.s.stars.{loc_ids[j]}.'\n",
    "        strend   = os.listdir(f'{loc_ids[j]}')[i][10:-5]\n",
    "        obj_ids.append(strend)\n",
    "        ind = np.where(strstart + strend == fit[1].data['APSTAR_ID'])[0][0] \n",
    "        if fit[1].data['LOCATION_ID'][ind] != loc_ids[j]:\n",
    "            print('This location ID is wrong:', ind)\n",
    "        teff.append(fit[1].data['TEFF'][ind])\n",
    "        eteff.append(fit[1].data['TEFF_ERR'][ind])\n",
    "        logg.append(fit[1].data['LOGG'][ind]) \n",
    "        elogg.append(fit[1].data['LOGG_ERR'][ind])\n",
    "        FeH.append(fit[1].data['FE_H'][ind])  \n",
    "        eFeH.append(fit[1].data['FE_H_ERR'][ind]) \n",
    "        MgFe.append(fit[1].data['MG_FE'][ind])\n",
    "        eMgFe.append(fit[1].data['MG_FE_ERR'][ind])\n",
    "        SiFe.append(fit[1].data['SI_FE'][ind]) \n",
    "        eSiFe.append(fit[1].data['SI_FE_ERR'][ind])\n",
    "        snr.append(fit[1].data['SNR'][ind])"
   ]
  },
  {
   "cell_type": "code",
   "execution_count": 18,
   "metadata": {
    "scrolled": true
   },
   "outputs": [
    {
     "data": {
      "text/html": [
       "<div>\n",
       "<style scoped>\n",
       "    .dataframe tbody tr th:only-of-type {\n",
       "        vertical-align: middle;\n",
       "    }\n",
       "\n",
       "    .dataframe tbody tr th {\n",
       "        vertical-align: top;\n",
       "    }\n",
       "\n",
       "    .dataframe thead th {\n",
       "        text-align: right;\n",
       "    }\n",
       "</style>\n",
       "<table border=\"1\" class=\"dataframe\">\n",
       "  <thead>\n",
       "    <tr style=\"text-align: right;\">\n",
       "      <th></th>\n",
       "      <th>OBJECT_ID</th>\n",
       "      <th>TEFF</th>\n",
       "      <th>TEFF_ERR</th>\n",
       "      <th>LOGG</th>\n",
       "      <th>LOGG_ERR</th>\n",
       "      <th>FE_H</th>\n",
       "      <th>FE_H_ERR</th>\n",
       "      <th>MG_FE</th>\n",
       "      <th>MG_FE_ERR</th>\n",
       "      <th>SI_FE</th>\n",
       "      <th>SI_FE_ERR</th>\n",
       "      <th>SNR</th>\n",
       "    </tr>\n",
       "  </thead>\n",
       "  <tbody>\n",
       "    <tr>\n",
       "      <th>0</th>\n",
       "      <td>2M21302278+1121415</td>\n",
       "      <td>5153.868164</td>\n",
       "      <td>107.863983</td>\n",
       "      <td>2.355246</td>\n",
       "      <td>0.065976</td>\n",
       "      <td>-0.678669</td>\n",
       "      <td>0.010074</td>\n",
       "      <td>0.171006</td>\n",
       "      <td>0.030287</td>\n",
       "      <td>0.190341</td>\n",
       "      <td>0.040434</td>\n",
       "      <td>106.962997</td>\n",
       "    </tr>\n",
       "    <tr>\n",
       "      <th>1</th>\n",
       "      <td>2M21271836+1058236</td>\n",
       "      <td>5234.882324</td>\n",
       "      <td>99.561188</td>\n",
       "      <td>3.470621</td>\n",
       "      <td>0.062127</td>\n",
       "      <td>-0.165351</td>\n",
       "      <td>0.007606</td>\n",
       "      <td>0.031832</td>\n",
       "      <td>0.018628</td>\n",
       "      <td>0.029333</td>\n",
       "      <td>0.030363</td>\n",
       "      <td>179.376007</td>\n",
       "    </tr>\n",
       "    <tr>\n",
       "      <th>2</th>\n",
       "      <td>2M21305280+1216411</td>\n",
       "      <td>4972.930664</td>\n",
       "      <td>114.182571</td>\n",
       "      <td>-9999.000000</td>\n",
       "      <td>-9999.000000</td>\n",
       "      <td>-0.021140</td>\n",
       "      <td>0.014120</td>\n",
       "      <td>0.137995</td>\n",
       "      <td>0.037470</td>\n",
       "      <td>0.080929</td>\n",
       "      <td>0.038656</td>\n",
       "      <td>82.053398</td>\n",
       "    </tr>\n",
       "    <tr>\n",
       "      <th>3</th>\n",
       "      <td>2M21243358+1228505</td>\n",
       "      <td>4776.683105</td>\n",
       "      <td>74.713554</td>\n",
       "      <td>2.868354</td>\n",
       "      <td>0.062768</td>\n",
       "      <td>-0.405365</td>\n",
       "      <td>0.009209</td>\n",
       "      <td>0.302043</td>\n",
       "      <td>0.022493</td>\n",
       "      <td>0.192283</td>\n",
       "      <td>0.029080</td>\n",
       "      <td>351.145996</td>\n",
       "    </tr>\n",
       "    <tr>\n",
       "      <th>4</th>\n",
       "      <td>2M21325045+1206334</td>\n",
       "      <td>3632.635010</td>\n",
       "      <td>77.442772</td>\n",
       "      <td>-9999.000000</td>\n",
       "      <td>-9999.000000</td>\n",
       "      <td>-0.608415</td>\n",
       "      <td>0.013033</td>\n",
       "      <td>0.162420</td>\n",
       "      <td>0.036664</td>\n",
       "      <td>0.103116</td>\n",
       "      <td>0.031478</td>\n",
       "      <td>533.166992</td>\n",
       "    </tr>\n",
       "  </tbody>\n",
       "</table>\n",
       "</div>"
      ],
      "text/plain": [
       "            OBJECT_ID         TEFF    TEFF_ERR         LOGG     LOGG_ERR  \\\n",
       "0  2M21302278+1121415  5153.868164  107.863983     2.355246     0.065976   \n",
       "1  2M21271836+1058236  5234.882324   99.561188     3.470621     0.062127   \n",
       "2  2M21305280+1216411  4972.930664  114.182571 -9999.000000 -9999.000000   \n",
       "3  2M21243358+1228505  4776.683105   74.713554     2.868354     0.062768   \n",
       "4  2M21325045+1206334  3632.635010   77.442772 -9999.000000 -9999.000000   \n",
       "\n",
       "       FE_H  FE_H_ERR     MG_FE  MG_FE_ERR     SI_FE  SI_FE_ERR         SNR  \n",
       "0 -0.678669  0.010074  0.171006   0.030287  0.190341   0.040434  106.962997  \n",
       "1 -0.165351  0.007606  0.031832   0.018628  0.029333   0.030363  179.376007  \n",
       "2 -0.021140  0.014120  0.137995   0.037470  0.080929   0.038656   82.053398  \n",
       "3 -0.405365  0.009209  0.302043   0.022493  0.192283   0.029080  351.145996  \n",
       "4 -0.608415  0.013033  0.162420   0.036664  0.103116   0.031478  533.166992  "
      ]
     },
     "execution_count": 18,
     "metadata": {},
     "output_type": "execute_result"
    }
   ],
   "source": [
    "### Turning it all into a Pandas DataFrame\n",
    "d = {\n",
    "     'OBJECT_ID': obj_ids,\n",
    "     'TEFF' : teff, 'TEFF_ERR' : eteff, \n",
    "     'LOGG' : logg, 'LOGG_ERR' : elogg, \n",
    "     'FE_H' : FeH , 'FE_H_ERR' : eFeH ,\n",
    "     'MG_FE': MgFe, 'MG_FE_ERR': eMgFe,\n",
    "     'SI_FE': SiFe, 'SI_FE_ERR': eSiFe,\n",
    "     'SNR'  : snr\n",
    "    }\n",
    "\n",
    "df_raw = pd.DataFrame(d)\n",
    "#df_raw = df_raw.set_index('OBJECT_ID')\n",
    "df_raw.head()"
   ]
  },
  {
   "cell_type": "code",
   "execution_count": 19,
   "metadata": {},
   "outputs": [
    {
     "name": "stdout",
     "output_type": "stream",
     "text": [
      "There are currently 2721 spectra in my raw data frame.\n"
     ]
    }
   ],
   "source": [
    "print(f'There are currently {len(df_raw)} spectra in my raw data frame.')"
   ]
  },
  {
   "cell_type": "code",
   "execution_count": 20,
   "metadata": {
    "scrolled": true
   },
   "outputs": [
    {
     "data": {
      "text/html": [
       "<div>\n",
       "<style scoped>\n",
       "    .dataframe tbody tr th:only-of-type {\n",
       "        vertical-align: middle;\n",
       "    }\n",
       "\n",
       "    .dataframe tbody tr th {\n",
       "        vertical-align: top;\n",
       "    }\n",
       "\n",
       "    .dataframe thead th {\n",
       "        text-align: right;\n",
       "    }\n",
       "</style>\n",
       "<table border=\"1\" class=\"dataframe\">\n",
       "  <thead>\n",
       "    <tr style=\"text-align: right;\">\n",
       "      <th></th>\n",
       "      <th>OBJECT_ID</th>\n",
       "      <th>TEFF</th>\n",
       "      <th>TEFF_ERR</th>\n",
       "      <th>LOGG</th>\n",
       "      <th>LOGG_ERR</th>\n",
       "      <th>FE_H</th>\n",
       "      <th>FE_H_ERR</th>\n",
       "      <th>MG_FE</th>\n",
       "      <th>MG_FE_ERR</th>\n",
       "      <th>SI_FE</th>\n",
       "      <th>SI_FE_ERR</th>\n",
       "      <th>SNR</th>\n",
       "    </tr>\n",
       "  </thead>\n",
       "  <tbody>\n",
       "    <tr>\n",
       "      <th>0</th>\n",
       "      <td>2M21302278+1121415</td>\n",
       "      <td>5153.868164</td>\n",
       "      <td>107.863983</td>\n",
       "      <td>2.355246</td>\n",
       "      <td>0.065976</td>\n",
       "      <td>-0.678669</td>\n",
       "      <td>0.010074</td>\n",
       "      <td>0.171006</td>\n",
       "      <td>0.030287</td>\n",
       "      <td>0.190341</td>\n",
       "      <td>0.040434</td>\n",
       "      <td>106.962997</td>\n",
       "    </tr>\n",
       "    <tr>\n",
       "      <th>1</th>\n",
       "      <td>2M21271836+1058236</td>\n",
       "      <td>5234.882324</td>\n",
       "      <td>99.561188</td>\n",
       "      <td>3.470621</td>\n",
       "      <td>0.062127</td>\n",
       "      <td>-0.165351</td>\n",
       "      <td>0.007606</td>\n",
       "      <td>0.031832</td>\n",
       "      <td>0.018628</td>\n",
       "      <td>0.029333</td>\n",
       "      <td>0.030363</td>\n",
       "      <td>179.376007</td>\n",
       "    </tr>\n",
       "    <tr>\n",
       "      <th>3</th>\n",
       "      <td>2M21243358+1228505</td>\n",
       "      <td>4776.683105</td>\n",
       "      <td>74.713554</td>\n",
       "      <td>2.868354</td>\n",
       "      <td>0.062768</td>\n",
       "      <td>-0.405365</td>\n",
       "      <td>0.009209</td>\n",
       "      <td>0.302043</td>\n",
       "      <td>0.022493</td>\n",
       "      <td>0.192283</td>\n",
       "      <td>0.029080</td>\n",
       "      <td>351.145996</td>\n",
       "    </tr>\n",
       "    <tr>\n",
       "      <th>12</th>\n",
       "      <td>2M21320875+1218263</td>\n",
       "      <td>4918.193359</td>\n",
       "      <td>96.953285</td>\n",
       "      <td>2.761881</td>\n",
       "      <td>0.052997</td>\n",
       "      <td>-0.325925</td>\n",
       "      <td>0.009112</td>\n",
       "      <td>0.031703</td>\n",
       "      <td>0.025470</td>\n",
       "      <td>-0.335099</td>\n",
       "      <td>0.033109</td>\n",
       "      <td>69.556297</td>\n",
       "    </tr>\n",
       "    <tr>\n",
       "      <th>19</th>\n",
       "      <td>2M21295621+1315323</td>\n",
       "      <td>4851.495605</td>\n",
       "      <td>101.497650</td>\n",
       "      <td>2.376463</td>\n",
       "      <td>0.055151</td>\n",
       "      <td>-0.354752</td>\n",
       "      <td>0.009798</td>\n",
       "      <td>0.312556</td>\n",
       "      <td>0.029597</td>\n",
       "      <td>0.200890</td>\n",
       "      <td>0.035598</td>\n",
       "      <td>97.060600</td>\n",
       "    </tr>\n",
       "  </tbody>\n",
       "</table>\n",
       "</div>"
      ],
      "text/plain": [
       "             OBJECT_ID         TEFF    TEFF_ERR      LOGG  LOGG_ERR      FE_H  \\\n",
       "0   2M21302278+1121415  5153.868164  107.863983  2.355246  0.065976 -0.678669   \n",
       "1   2M21271836+1058236  5234.882324   99.561188  3.470621  0.062127 -0.165351   \n",
       "3   2M21243358+1228505  4776.683105   74.713554  2.868354  0.062768 -0.405365   \n",
       "12  2M21320875+1218263  4918.193359   96.953285  2.761881  0.052997 -0.325925   \n",
       "19  2M21295621+1315323  4851.495605  101.497650  2.376463  0.055151 -0.354752   \n",
       "\n",
       "    FE_H_ERR     MG_FE  MG_FE_ERR     SI_FE  SI_FE_ERR         SNR  \n",
       "0   0.010074  0.171006   0.030287  0.190341   0.040434  106.962997  \n",
       "1   0.007606  0.031832   0.018628  0.029333   0.030363  179.376007  \n",
       "3   0.009209  0.302043   0.022493  0.192283   0.029080  351.145996  \n",
       "12  0.009112  0.031703   0.025470 -0.335099   0.033109   69.556297  \n",
       "19  0.009798  0.312556   0.029597  0.200890   0.035598   97.060600  "
      ]
     },
     "execution_count": 20,
     "metadata": {},
     "output_type": "execute_result"
    }
   ],
   "source": [
    "### Applying Quality Cuts\n",
    "\n",
    "df = df_raw.loc[\n",
    "                (df_raw['TEFF']  > 0)  &\n",
    "                (df_raw['LOGG']  > 0)  &  \n",
    "                (df_raw['FE_H']  > -1) &\n",
    "                (df_raw['SNR']   > 50) &\n",
    "                (df_raw['SI_FE'] > -9) &\n",
    "                (df_raw['MG_FE'] > -9)\n",
    "               ]\n",
    "\n",
    "df.head()"
   ]
  },
  {
   "cell_type": "code",
   "execution_count": 21,
   "metadata": {},
   "outputs": [
    {
     "name": "stdout",
     "output_type": "stream",
     "text": [
      "There are 1712 spectra left in my data frame after my quality cuts.\n"
     ]
    }
   ],
   "source": [
    "print(f'There are {len(df)} spectra left in my data frame after my quality cuts.')"
   ]
  },
  {
   "cell_type": "code",
   "execution_count": 42,
   "metadata": {},
   "outputs": [],
   "source": [
    "### Checking for bad files\n",
    "\n",
    "strstart = 'apStar-r8-'\n",
    "for j in range(len(loc_ids)):\n",
    "    for i in range(len(os.listdir(f'{loc_ids[j]}'))):\n",
    "        fits_dir = f'{loc_ids[j]}/{os.listdir(str(loc_ids[j]))[i]}'\n",
    "        spectra.append(get_single_fits_data(fits_dir)) \n",
    "        try:\n",
    "            if len(get_single_fits_data(fits_dir)) != 8575:\n",
    "                print(i, 'Bad spectrum')\n",
    "        except:\n",
    "            print(fits_dir)"
   ]
  },
  {
   "cell_type": "code",
   "execution_count": 44,
   "metadata": {},
   "outputs": [],
   "source": [
    "### Dropping a couple messed up spectra without any data\n",
    "\n",
    "drop_list = [] \n",
    "\n",
    "for i in df.index.values:\n",
    "    if type(df['ERR_SPEC'].loc[i]) == int:\n",
    "        drop_list.append(i)\n",
    "        \n",
    "df.drop(drop_list, inplace=True)"
   ]
  },
  {
   "cell_type": "code",
   "execution_count": 45,
   "metadata": {},
   "outputs": [],
   "source": [
    "### Changing the errors for all bad pixels to 10^20 for every error array in my dataframe  \n",
    "\n",
    "for i in range(len(df)):\n",
    "    bitmasks    = df['BITMASK'].iloc[i]\n",
    "    err_spectra = df['ERR_SPEC'].iloc[i]\n",
    "    bad_pixels  = (bitmasks & 4351) != 0\n",
    "    ind         = np.where(bad_pixels == True)[0]\n",
    "    if len(ind) > 0:\n",
    "        df['ERR_SPEC'].iloc[i][ind] = 10**20\n",
    "    else:\n",
    "        continue"
   ]
  },
  {
   "cell_type": "code",
   "execution_count": 22,
   "metadata": {},
   "outputs": [],
   "source": [
    "def mean_normalization(label):\n",
    "    data = df[label].values\n",
    "    normal = []\n",
    "    for i in range(len(data)):\n",
    "        normed = (data[i] - np.average(data)) / (np.max(data) - np.min(data))\n",
    "        normal.append(normed)\n",
    "    return np.array(normal)\n",
    "\n",
    "def min_normalization(label):\n",
    "    data = df[label].values\n",
    "    normal = []\n",
    "    for i in range(len(data)):\n",
    "        normed = (data[i] - np.min(data)) / (np.max(data) - np.min(data))\n",
    "        normal.append(normed)\n",
    "    return np.array(normal)   "
   ]
  },
  {
   "cell_type": "code",
   "execution_count": 23,
   "metadata": {
    "scrolled": true
   },
   "outputs": [],
   "source": [
    "### Before I sperate the arrays I'm making new columns for the power transformed flux errors and feature scaled labels\n",
    "\n",
    "from sklearn import preprocessing\n",
    "pt = preprocessing.PowerTransformer()\n",
    "\n",
    "def power_transform(column_name):\n",
    "    return pt.fit_transform(df[column_name].values.reshape(-1,1)).reshape(-1)\n",
    "\n",
    "df['PT_ERR_SPEC']  = 0\n",
    "df['PT_ERR_SPEC']  = df['PT_ERR_SPEC'].astype(np.ndarray)\n",
    "for i in df.index.values:\n",
    "    new_err = pt.fit_transform(df['ERR_SPEC'].loc[i].reshape(-1,1)).reshape(-1)\n",
    "    df.at[i, 'PT_ERR_SPEC'] = new_err\n",
    "\n",
    "df['N_TEFF']      = mean_normalization('TEFF')\n",
    "df['N_TEFF_ERR']  = mean_normalization('TEFF_ERR')\n",
    "df['N_LOGG']      = mean_normalization('LOGG')\n",
    "df['N_LOGG_ERR']  = mean_normalization('LOGG_ERR')\n",
    "df['N_FE_H']      = mean_normalization('FE_H')\n",
    "df['N_FE_H_ERR']  = mean_normalization('FE_H_ERR')\n",
    "df['N_MG_FE']     = mean_normalization('MG_FE')\n",
    "df['N_MG_FE_ERR'] = mean_normalization('MG_FE_ERR')\n",
    "df['N_SI_FE']     = mean_normalization('SI_FE')\n",
    "df['N_SI_FE_ERR'] = mean_normalization('SI_FE_ERR')\n",
    "\n",
    "df['M_TEFF']      = min_normalization('TEFF')\n",
    "df['M_LOGG']      = min_normalization('LOGG')\n",
    "df['M_FE_H']      = min_normalization('FE_H')\n",
    "df['M_MG_FE']     = min_normalization('MG_FE')\n",
    "df['M_SI_FE']     = min_normalization('SI_FE')\n"
   ]
  },
  {
   "cell_type": "code",
   "execution_count": 27,
   "metadata": {},
   "outputs": [],
   "source": [
    "# Shuffling the dataframe rows and splitting it in two halfs\n",
    "\n",
    "df = df.sample(frac=1)\n",
    "boundary = int(0.5 * len(df))\n",
    "\n",
    "df_train     = df.iloc[:boundary]\n",
    "df_cross_val = df.iloc[boundary:]"
   ]
  },
  {
   "cell_type": "code",
   "execution_count": 54,
   "metadata": {},
   "outputs": [
    {
     "data": {
      "text/html": [
       "<div>\n",
       "<style scoped>\n",
       "    .dataframe tbody tr th:only-of-type {\n",
       "        vertical-align: middle;\n",
       "    }\n",
       "\n",
       "    .dataframe tbody tr th {\n",
       "        vertical-align: top;\n",
       "    }\n",
       "\n",
       "    .dataframe thead th {\n",
       "        text-align: right;\n",
       "    }\n",
       "</style>\n",
       "<table border=\"1\" class=\"dataframe\">\n",
       "  <thead>\n",
       "    <tr style=\"text-align: right;\">\n",
       "      <th></th>\n",
       "      <th>OBJECT_ID</th>\n",
       "      <th>TEFF</th>\n",
       "      <th>TEFF_ERR</th>\n",
       "      <th>LOGG</th>\n",
       "      <th>LOGG_ERR</th>\n",
       "      <th>FE_H</th>\n",
       "      <th>FE_H_ERR</th>\n",
       "      <th>MG_FE</th>\n",
       "      <th>MG_FE_ERR</th>\n",
       "      <th>SI_FE</th>\n",
       "      <th>...</th>\n",
       "      <th>N_FE_H_ERR</th>\n",
       "      <th>N_MG_FE</th>\n",
       "      <th>N_MG_FE_ERR</th>\n",
       "      <th>N_SI_FE</th>\n",
       "      <th>N_SI_FE_ERR</th>\n",
       "      <th>M_TEFF</th>\n",
       "      <th>M_LOGG</th>\n",
       "      <th>M_FE_H</th>\n",
       "      <th>M_MG_FE</th>\n",
       "      <th>M_SI_FE</th>\n",
       "    </tr>\n",
       "  </thead>\n",
       "  <tbody>\n",
       "    <tr>\n",
       "      <th>2537</th>\n",
       "      <td>2M19433551+2440052</td>\n",
       "      <td>4482.852539</td>\n",
       "      <td>70.953270</td>\n",
       "      <td>2.070187</td>\n",
       "      <td>0.057238</td>\n",
       "      <td>0.126549</td>\n",
       "      <td>0.008120</td>\n",
       "      <td>-0.033025</td>\n",
       "      <td>0.019061</td>\n",
       "      <td>-0.018739</td>\n",
       "      <td>...</td>\n",
       "      <td>-0.039048</td>\n",
       "      <td>-0.159537</td>\n",
       "      <td>-0.034572</td>\n",
       "      <td>-0.056814</td>\n",
       "      <td>-0.057142</td>\n",
       "      <td>0.466620</td>\n",
       "      <td>0.546149</td>\n",
       "      <td>0.728711</td>\n",
       "      <td>0.295234</td>\n",
       "      <td>0.522154</td>\n",
       "    </tr>\n",
       "    <tr>\n",
       "      <th>2012</th>\n",
       "      <td>2M19435609+2319117</td>\n",
       "      <td>4940.999023</td>\n",
       "      <td>93.608543</td>\n",
       "      <td>2.628898</td>\n",
       "      <td>0.046750</td>\n",
       "      <td>0.031466</td>\n",
       "      <td>0.007789</td>\n",
       "      <td>0.000413</td>\n",
       "      <td>0.019616</td>\n",
       "      <td>0.008889</td>\n",
       "      <td>...</td>\n",
       "      <td>-0.084596</td>\n",
       "      <td>-0.108716</td>\n",
       "      <td>-0.014925</td>\n",
       "      <td>-0.024467</td>\n",
       "      <td>0.087048</td>\n",
       "      <td>0.703804</td>\n",
       "      <td>0.698055</td>\n",
       "      <td>0.665798</td>\n",
       "      <td>0.346054</td>\n",
       "      <td>0.554501</td>\n",
       "    </tr>\n",
       "    <tr>\n",
       "      <th>532</th>\n",
       "      <td>2M21245990+1254106</td>\n",
       "      <td>4561.697266</td>\n",
       "      <td>66.056015</td>\n",
       "      <td>2.375340</td>\n",
       "      <td>0.059504</td>\n",
       "      <td>-0.320159</td>\n",
       "      <td>0.009217</td>\n",
       "      <td>0.257227</td>\n",
       "      <td>0.021680</td>\n",
       "      <td>0.099944</td>\n",
       "      <td>...</td>\n",
       "      <td>0.112171</td>\n",
       "      <td>0.281610</td>\n",
       "      <td>0.058204</td>\n",
       "      <td>0.082142</td>\n",
       "      <td>0.028780</td>\n",
       "      <td>0.507438</td>\n",
       "      <td>0.629116</td>\n",
       "      <td>0.433139</td>\n",
       "      <td>0.736380</td>\n",
       "      <td>0.661109</td>\n",
       "    </tr>\n",
       "    <tr>\n",
       "      <th>725</th>\n",
       "      <td>2M21280856+1313228</td>\n",
       "      <td>4565.171875</td>\n",
       "      <td>80.824959</td>\n",
       "      <td>2.850636</td>\n",
       "      <td>0.055619</td>\n",
       "      <td>0.470978</td>\n",
       "      <td>0.007070</td>\n",
       "      <td>0.112535</td>\n",
       "      <td>0.016578</td>\n",
       "      <td>-0.058442</td>\n",
       "      <td>...</td>\n",
       "      <td>-0.183787</td>\n",
       "      <td>0.061696</td>\n",
       "      <td>-0.122510</td>\n",
       "      <td>-0.103300</td>\n",
       "      <td>-0.099452</td>\n",
       "      <td>0.509237</td>\n",
       "      <td>0.758342</td>\n",
       "      <td>0.956609</td>\n",
       "      <td>0.516466</td>\n",
       "      <td>0.475668</td>\n",
       "    </tr>\n",
       "    <tr>\n",
       "      <th>2305</th>\n",
       "      <td>2M19494472+2345156</td>\n",
       "      <td>5071.486328</td>\n",
       "      <td>103.745430</td>\n",
       "      <td>2.792584</td>\n",
       "      <td>0.048914</td>\n",
       "      <td>0.131809</td>\n",
       "      <td>0.007391</td>\n",
       "      <td>-0.084066</td>\n",
       "      <td>0.018896</td>\n",
       "      <td>-0.077001</td>\n",
       "      <td>...</td>\n",
       "      <td>-0.139527</td>\n",
       "      <td>-0.237114</td>\n",
       "      <td>-0.040427</td>\n",
       "      <td>-0.125028</td>\n",
       "      <td>0.106690</td>\n",
       "      <td>0.771358</td>\n",
       "      <td>0.742559</td>\n",
       "      <td>0.732192</td>\n",
       "      <td>0.217657</td>\n",
       "      <td>0.453940</td>\n",
       "    </tr>\n",
       "  </tbody>\n",
       "</table>\n",
       "<p>5 rows × 31 columns</p>\n",
       "</div>"
      ],
      "text/plain": [
       "               OBJECT_ID         TEFF    TEFF_ERR      LOGG  LOGG_ERR  \\\n",
       "2537  2M19433551+2440052  4482.852539   70.953270  2.070187  0.057238   \n",
       "2012  2M19435609+2319117  4940.999023   93.608543  2.628898  0.046750   \n",
       "532   2M21245990+1254106  4561.697266   66.056015  2.375340  0.059504   \n",
       "725   2M21280856+1313228  4565.171875   80.824959  2.850636  0.055619   \n",
       "2305  2M19494472+2345156  5071.486328  103.745430  2.792584  0.048914   \n",
       "\n",
       "          FE_H  FE_H_ERR     MG_FE  MG_FE_ERR     SI_FE    ...     N_FE_H_ERR  \\\n",
       "2537  0.126549  0.008120 -0.033025   0.019061 -0.018739    ...      -0.039048   \n",
       "2012  0.031466  0.007789  0.000413   0.019616  0.008889    ...      -0.084596   \n",
       "532  -0.320159  0.009217  0.257227   0.021680  0.099944    ...       0.112171   \n",
       "725   0.470978  0.007070  0.112535   0.016578 -0.058442    ...      -0.183787   \n",
       "2305  0.131809  0.007391 -0.084066   0.018896 -0.077001    ...      -0.139527   \n",
       "\n",
       "       N_MG_FE N_MG_FE_ERR   N_SI_FE N_SI_FE_ERR    M_TEFF    M_LOGG  \\\n",
       "2537 -0.159537   -0.034572 -0.056814   -0.057142  0.466620  0.546149   \n",
       "2012 -0.108716   -0.014925 -0.024467    0.087048  0.703804  0.698055   \n",
       "532   0.281610    0.058204  0.082142    0.028780  0.507438  0.629116   \n",
       "725   0.061696   -0.122510 -0.103300   -0.099452  0.509237  0.758342   \n",
       "2305 -0.237114   -0.040427 -0.125028    0.106690  0.771358  0.742559   \n",
       "\n",
       "        M_FE_H   M_MG_FE   M_SI_FE  \n",
       "2537  0.728711  0.295234  0.522154  \n",
       "2012  0.665798  0.346054  0.554501  \n",
       "532   0.433139  0.736380  0.661109  \n",
       "725   0.956609  0.516466  0.475668  \n",
       "2305  0.732192  0.217657  0.453940  \n",
       "\n",
       "[5 rows x 31 columns]"
      ]
     },
     "execution_count": 54,
     "metadata": {},
     "output_type": "execute_result"
    }
   ],
   "source": [
    "df_train.head()"
   ]
  },
  {
   "cell_type": "markdown",
   "metadata": {},
   "source": [
    "# Neural Network Creation Begins Below\n"
   ]
  },
  {
   "cell_type": "markdown",
   "metadata": {},
   "source": [
    "First I am shortening the individual spectrums by cutting out all indicies that have zeros in them in order to allow the neural network to avoid focusing on them due to the lack of flux errors being used in my network. \n",
    "I am also renormalizing my labels to unity through min-max feature scaling in order to take advantage of the sigmoid activation in keras which only outputs to [0,1].\n",
    "\n",
    "The indices (they are the same for every spectrum due to band pass gaps) that I'm cutting out are:\n",
    "\n",
    "boundary0 = 0:245\n",
    "\n",
    "boundary1 = 3274:3584\n",
    "\n",
    "boundary2 = 6080:6343\n",
    "\n",
    "boundary3 = 8335:8574"
   ]
  },
  {
   "cell_type": "code",
   "execution_count": 21,
   "metadata": {},
   "outputs": [],
   "source": [
    "good_ind = np.where(df_train['NORM_SPEC'].iloc[0] != 0)[0]\n",
    "normalized_fluxes = df_train['NORM_SPEC'].values\n",
    "flux_train = np.array([fluxes[good_ind] for fluxes in normalized_fluxes])\n",
    "\n",
    "normalized_fluxes = df_cross_val['NORM_SPEC'].values\n",
    "flux_cross_val = np.array([fluxes[good_ind] for fluxes in normalized_fluxes])"
   ]
  },
  {
   "cell_type": "code",
   "execution_count": 7,
   "metadata": {},
   "outputs": [
    {
     "name": "stderr",
     "output_type": "stream",
     "text": [
      "Using TensorFlow backend.\n"
     ]
    }
   ],
   "source": [
    "from keras.utils import to_categorical\n",
    "from keras import models\n",
    "from keras.layers import Dense, Activation, LSTM, Dropout\n",
    "import tensorflow as tf\n",
    "from tensorflow import keras\n",
    "from keras.models import Sequential  # linear stack of layers\n",
    "from keras.layers import Dense, Activation\n",
    "from keras.wrappers.scikit_learn import KerasClassifier\n",
    "from keras.utils import np_utils\n",
    "from sklearn.model_selection import cross_val_score\n",
    "from sklearn.model_selection import KFold\n",
    "from sklearn.preprocessing import LabelEncoder\n",
    "from sklearn.pipeline import Pipeline\n",
    "from keras.utils import to_categorical\n",
    "from keras import models\n",
    "from keras import layers"
   ]
  },
  {
   "cell_type": "code",
   "execution_count": 8,
   "metadata": {},
   "outputs": [
    {
     "data": {
      "text/plain": [
       "<mtrand.RandomState at 0x7f6d761fc5e8>"
      ]
     },
     "execution_count": 8,
     "metadata": {},
     "output_type": "execute_result"
    }
   ],
   "source": [
    "np.random.RandomState(7)"
   ]
  },
  {
   "cell_type": "code",
   "execution_count": 44,
   "metadata": {},
   "outputs": [
    {
     "name": "stdout",
     "output_type": "stream",
     "text": [
      "(856, 7514) \n",
      " (856, 5)\n"
     ]
    }
   ],
   "source": [
    "train_X = flux_train\n",
    "train_y = df_train[['M_TEFF', 'M_LOGG', 'M_FE_H', 'M_MG_FE', 'M_SI_FE']].values\n",
    "test_X  = flux_cross_val\n",
    "test_y  = df_cross_val[['M_TEFF', 'M_LOGG', 'M_FE_H', 'M_MG_FE', 'M_SI_FE']].values\n",
    "\n",
    "print(train_X.shape, '\\n', train_y.shape)"
   ]
  },
  {
   "cell_type": "code",
   "execution_count": 13,
   "metadata": {},
   "outputs": [],
   "source": [
    "keras.backend.clear_session()"
   ]
  },
  {
   "cell_type": "code",
   "execution_count": 14,
   "metadata": {
    "scrolled": false
   },
   "outputs": [
    {
     "name": "stdout",
     "output_type": "stream",
     "text": [
      "Epoch 1/100\n",
      "856/856 [==============================] - 5s 5ms/step - loss: 4.4239 - acc: 0.5876 - mean_squared_error: 0.0487\n",
      "Epoch 2/100\n",
      "856/856 [==============================] - 4s 5ms/step - loss: 4.4204 - acc: 0.5958 - mean_squared_error: 0.0442\n",
      "Epoch 3/100\n",
      "856/856 [==============================] - 5s 6ms/step - loss: 4.4183 - acc: 0.6133 - mean_squared_error: 0.0408\n",
      "Epoch 4/100\n",
      "856/856 [==============================] - 4s 4ms/step - loss: 4.4191 - acc: 0.6145 - mean_squared_error: 0.0386\n",
      "Epoch 5/100\n",
      "856/856 [==============================] - 4s 5ms/step - loss: 4.4155 - acc: 0.6227 - mean_squared_error: 0.0372\n",
      "Epoch 6/100\n",
      "856/856 [==============================] - 4s 5ms/step - loss: 4.4137 - acc: 0.6227 - mean_squared_error: 0.0245\n",
      "Epoch 7/100\n",
      "856/856 [==============================] - 4s 4ms/step - loss: 4.4116 - acc: 0.6180 - mean_squared_error: 0.0265\n",
      "Epoch 8/100\n",
      "856/856 [==============================] - 4s 5ms/step - loss: 4.4143 - acc: 0.6215 - mean_squared_error: 0.0263\n",
      "Epoch 9/100\n",
      "856/856 [==============================] - 3s 3ms/step - loss: 4.4111 - acc: 0.6425 - mean_squared_error: 0.0202\n",
      "Epoch 10/100\n",
      "856/856 [==============================] - 3s 4ms/step - loss: 4.4058 - acc: 0.6636 - mean_squared_error: 0.0177\n",
      "Epoch 11/100\n",
      "856/856 [==============================] - 3s 3ms/step - loss: 4.4088 - acc: 0.6367 - mean_squared_error: 0.0180\n",
      "Epoch 12/100\n",
      "856/856 [==============================] - 4s 4ms/step - loss: 4.4030 - acc: 0.6834 - mean_squared_error: 0.0138\n",
      "Epoch 13/100\n",
      "856/856 [==============================] - 3s 4ms/step - loss: 4.4032 - acc: 0.6717 - mean_squared_error: 0.0138\n",
      "Epoch 14/100\n",
      "856/856 [==============================] - 3s 4ms/step - loss: 4.4049 - acc: 0.6752 - mean_squared_error: 0.0144\n",
      "Epoch 15/100\n",
      "856/856 [==============================] - 4s 4ms/step - loss: 4.4048 - acc: 0.6565 - mean_squared_error: 0.0166\n",
      "Epoch 16/100\n",
      "856/856 [==============================] - 3s 4ms/step - loss: 4.4008 - acc: 0.6834 - mean_squared_error: 0.0149\n",
      "Epoch 17/100\n",
      "856/856 [==============================] - 3s 3ms/step - loss: 4.4035 - acc: 0.6624 - mean_squared_error: 0.0183\n",
      "Epoch 18/100\n",
      "856/856 [==============================] - 3s 3ms/step - loss: 4.4050 - acc: 0.6554 - mean_squared_error: 0.0174\n",
      "Epoch 19/100\n",
      "856/856 [==============================] - 2s 3ms/step - loss: 4.4011 - acc: 0.6811 - mean_squared_error: 0.0153\n",
      "Epoch 20/100\n",
      "856/856 [==============================] - 3s 3ms/step - loss: 4.3946 - acc: 0.7091 - mean_squared_error: 0.0114\n",
      "Epoch 21/100\n",
      "856/856 [==============================] - 2s 3ms/step - loss: 4.3971 - acc: 0.6822 - mean_squared_error: 0.0134\n",
      "Epoch 22/100\n",
      "856/856 [==============================] - 2s 3ms/step - loss: 4.3999 - acc: 0.6764 - mean_squared_error: 0.0145\n",
      "Epoch 23/100\n",
      "856/856 [==============================] - 2s 3ms/step - loss: 4.4005 - acc: 0.6904 - mean_squared_error: 0.0158\n",
      "Epoch 24/100\n",
      "856/856 [==============================] - 3s 3ms/step - loss: 4.3935 - acc: 0.7126 - mean_squared_error: 0.0120\n",
      "Epoch 25/100\n",
      "856/856 [==============================] - 3s 4ms/step - loss: 4.4007 - acc: 0.6694 - mean_squared_error: 0.0158\n",
      "Epoch 26/100\n",
      "856/856 [==============================] - 2s 3ms/step - loss: 4.3948 - acc: 0.6928 - mean_squared_error: 0.0132\n",
      "Epoch 27/100\n",
      "856/856 [==============================] - 3s 3ms/step - loss: 4.3963 - acc: 0.6998 - mean_squared_error: 0.0138\n",
      "Epoch 28/100\n",
      "856/856 [==============================] - 3s 3ms/step - loss: 4.3953 - acc: 0.6998 - mean_squared_error: 0.0124\n",
      "Epoch 29/100\n",
      "856/856 [==============================] - 3s 3ms/step - loss: 4.3991 - acc: 0.6881 - mean_squared_error: 0.0160\n",
      "Epoch 30/100\n",
      "856/856 [==============================] - 2s 3ms/step - loss: 4.3980 - acc: 0.6963 - mean_squared_error: 0.0148\n",
      "Epoch 31/100\n",
      "856/856 [==============================] - 2s 3ms/step - loss: 4.4056 - acc: 0.6495 - mean_squared_error: 0.0195\n",
      "Epoch 32/100\n",
      "856/856 [==============================] - 2s 3ms/step - loss: 4.3926 - acc: 0.7138 - mean_squared_error: 0.0129\n",
      "Epoch 33/100\n",
      "856/856 [==============================] - 3s 4ms/step - loss: 4.3951 - acc: 0.7044 - mean_squared_error: 0.0127\n",
      "Epoch 34/100\n",
      "856/856 [==============================] - 4s 4ms/step - loss: 4.3925 - acc: 0.6986 - mean_squared_error: 0.0115\n",
      "Epoch 35/100\n",
      "856/856 [==============================] - 3s 3ms/step - loss: 4.3955 - acc: 0.6963 - mean_squared_error: 0.0130\n",
      "Epoch 36/100\n",
      "856/856 [==============================] - 2s 3ms/step - loss: 4.3959 - acc: 0.6846 - mean_squared_error: 0.0134\n",
      "Epoch 37/100\n",
      "856/856 [==============================] - 2s 3ms/step - loss: 4.3933 - acc: 0.6986 - mean_squared_error: 0.0130\n",
      "Epoch 38/100\n",
      "856/856 [==============================] - 2s 3ms/step - loss: 4.3929 - acc: 0.6916 - mean_squared_error: 0.0110\n",
      "Epoch 39/100\n",
      "856/856 [==============================] - 2s 3ms/step - loss: 4.3942 - acc: 0.7079 - mean_squared_error: 0.0127\n",
      "Epoch 40/100\n",
      "856/856 [==============================] - 3s 3ms/step - loss: 4.3938 - acc: 0.6963 - mean_squared_error: 0.0124\n",
      "Epoch 41/100\n",
      "856/856 [==============================] - 5s 6ms/step - loss: 4.3923 - acc: 0.7185 - mean_squared_error: 0.0118\n",
      "Epoch 42/100\n",
      "856/856 [==============================] - 5s 6ms/step - loss: 4.3938 - acc: 0.6998 - mean_squared_error: 0.0114\n",
      "Epoch 43/100\n",
      "856/856 [==============================] - 5s 6ms/step - loss: 4.3924 - acc: 0.6963 - mean_squared_error: 0.0107\n",
      "Epoch 44/100\n",
      "856/856 [==============================] - 5s 6ms/step - loss: 4.3933 - acc: 0.7185 - mean_squared_error: 0.0122\n",
      "Epoch 45/100\n",
      "856/856 [==============================] - 5s 6ms/step - loss: 4.3911 - acc: 0.7056 - mean_squared_error: 0.0114\n",
      "Epoch 46/100\n",
      "856/856 [==============================] - 5s 6ms/step - loss: 4.3936 - acc: 0.6998 - mean_squared_error: 0.0118\n",
      "Epoch 47/100\n",
      "856/856 [==============================] - 5s 6ms/step - loss: 4.3956 - acc: 0.7009 - mean_squared_error: 0.0137\n",
      "Epoch 48/100\n",
      "856/856 [==============================] - 5s 6ms/step - loss: 4.3899 - acc: 0.7126 - mean_squared_error: 0.0108\n",
      "Epoch 49/100\n",
      "856/856 [==============================] - 5s 6ms/step - loss: 4.3896 - acc: 0.7138 - mean_squared_error: 0.0096\n",
      "Epoch 50/100\n",
      "856/856 [==============================] - 5s 6ms/step - loss: 4.3916 - acc: 0.7068 - mean_squared_error: 0.0120\n",
      "Epoch 51/100\n",
      "856/856 [==============================] - 3s 4ms/step - loss: 4.3939 - acc: 0.7103 - mean_squared_error: 0.0118\n",
      "Epoch 52/100\n",
      "856/856 [==============================] - 2s 3ms/step - loss: 4.3946 - acc: 0.6916 - mean_squared_error: 0.0125\n",
      "Epoch 53/100\n",
      "856/856 [==============================] - 2s 3ms/step - loss: 4.3927 - acc: 0.6928 - mean_squared_error: 0.0117\n",
      "Epoch 54/100\n",
      "856/856 [==============================] - 2s 3ms/step - loss: 4.4107 - acc: 0.6332 - mean_squared_error: 0.0210\n",
      "Epoch 55/100\n",
      "856/856 [==============================] - 2s 3ms/step - loss: 4.3920 - acc: 0.7091 - mean_squared_error: 0.0124\n",
      "Epoch 56/100\n",
      "856/856 [==============================] - 2s 3ms/step - loss: 4.3906 - acc: 0.7068 - mean_squared_error: 0.0105\n",
      "Epoch 57/100\n",
      "856/856 [==============================] - 2s 3ms/step - loss: 4.3925 - acc: 0.6939 - mean_squared_error: 0.0106\n",
      "Epoch 58/100\n",
      "856/856 [==============================] - 2s 3ms/step - loss: 4.3902 - acc: 0.7138 - mean_squared_error: 0.0109\n",
      "Epoch 59/100\n",
      "856/856 [==============================] - 2s 3ms/step - loss: 4.3910 - acc: 0.7044 - mean_squared_error: 0.0108\n",
      "Epoch 60/100\n",
      "856/856 [==============================] - 2s 3ms/step - loss: 4.3922 - acc: 0.7044 - mean_squared_error: 0.0108\n",
      "Epoch 61/100\n",
      "856/856 [==============================] - 2s 3ms/step - loss: 4.3924 - acc: 0.7126 - mean_squared_error: 0.0110\n",
      "Epoch 62/100\n",
      "856/856 [==============================] - 2s 3ms/step - loss: 4.3905 - acc: 0.7009 - mean_squared_error: 0.0100\n",
      "Epoch 63/100\n",
      "856/856 [==============================] - 2s 3ms/step - loss: 4.3903 - acc: 0.7091 - mean_squared_error: 0.0100\n",
      "Epoch 64/100\n",
      "856/856 [==============================] - 2s 3ms/step - loss: 4.3919 - acc: 0.7044 - mean_squared_error: 0.0108\n",
      "Epoch 65/100\n",
      "856/856 [==============================] - 2s 3ms/step - loss: 4.3938 - acc: 0.6869 - mean_squared_error: 0.0120\n",
      "Epoch 66/100\n"
     ]
    },
    {
     "name": "stdout",
     "output_type": "stream",
     "text": [
      "856/856 [==============================] - 3s 3ms/step - loss: 4.3939 - acc: 0.6951 - mean_squared_error: 0.0116\n",
      "Epoch 67/100\n",
      "856/856 [==============================] - 2s 3ms/step - loss: 4.3910 - acc: 0.7033 - mean_squared_error: 0.0111\n",
      "Epoch 68/100\n",
      "856/856 [==============================] - 2s 3ms/step - loss: 4.3922 - acc: 0.6963 - mean_squared_error: 0.0112\n",
      "Epoch 69/100\n",
      "856/856 [==============================] - 2s 3ms/step - loss: 4.3887 - acc: 0.7185 - mean_squared_error: 0.0101\n",
      "Epoch 70/100\n",
      "856/856 [==============================] - 3s 3ms/step - loss: 4.3892 - acc: 0.7150 - mean_squared_error: 0.0100\n",
      "Epoch 71/100\n",
      "856/856 [==============================] - 3s 4ms/step - loss: 4.3897 - acc: 0.7056 - mean_squared_error: 0.0099\n",
      "Epoch 72/100\n",
      "856/856 [==============================] - 4s 5ms/step - loss: 4.3902 - acc: 0.6998 - mean_squared_error: 0.0099\n",
      "Epoch 73/100\n",
      "856/856 [==============================] - 5s 6ms/step - loss: 4.3911 - acc: 0.7126 - mean_squared_error: 0.0109\n",
      "Epoch 74/100\n",
      "856/856 [==============================] - 5s 6ms/step - loss: 4.3902 - acc: 0.7103 - mean_squared_error: 0.0110\n",
      "Epoch 75/100\n",
      "856/856 [==============================] - 5s 6ms/step - loss: 4.3915 - acc: 0.7021 - mean_squared_error: 0.0108\n",
      "Epoch 76/100\n",
      "856/856 [==============================] - 5s 5ms/step - loss: 4.3897 - acc: 0.7266 - mean_squared_error: 0.0110\n",
      "Epoch 77/100\n",
      "856/856 [==============================] - 5s 6ms/step - loss: 4.3946 - acc: 0.6671 - mean_squared_error: 0.0132\n",
      "Epoch 78/100\n",
      "856/856 [==============================] - 5s 6ms/step - loss: 4.3894 - acc: 0.7161 - mean_squared_error: 0.0109\n",
      "Epoch 79/100\n",
      "856/856 [==============================] - 5s 6ms/step - loss: 4.3892 - acc: 0.7196 - mean_squared_error: 0.0106\n",
      "Epoch 80/100\n",
      "856/856 [==============================] - 5s 6ms/step - loss: 4.3891 - acc: 0.7056 - mean_squared_error: 0.0112\n",
      "Epoch 81/100\n",
      "856/856 [==============================] - 5s 6ms/step - loss: 4.3874 - acc: 0.7103 - mean_squared_error: 0.0097\n",
      "Epoch 82/100\n",
      "856/856 [==============================] - 5s 6ms/step - loss: 4.3948 - acc: 0.6694 - mean_squared_error: 0.0127\n",
      "Epoch 83/100\n",
      "856/856 [==============================] - 5s 6ms/step - loss: 4.3904 - acc: 0.7150 - mean_squared_error: 0.0109\n",
      "Epoch 84/100\n",
      "856/856 [==============================] - 3s 3ms/step - loss: 4.3871 - acc: 0.7243 - mean_squared_error: 0.0097\n",
      "Epoch 85/100\n",
      "856/856 [==============================] - 2s 3ms/step - loss: 4.3918 - acc: 0.6939 - mean_squared_error: 0.0110\n",
      "Epoch 86/100\n",
      "856/856 [==============================] - 2s 3ms/step - loss: 4.3952 - acc: 0.6893 - mean_squared_error: 0.0135\n",
      "Epoch 87/100\n",
      "856/856 [==============================] - 2s 3ms/step - loss: 4.3875 - acc: 0.7185 - mean_squared_error: 0.0100\n",
      "Epoch 88/100\n",
      "856/856 [==============================] - 2s 3ms/step - loss: 4.3898 - acc: 0.6986 - mean_squared_error: 0.0109\n",
      "Epoch 89/100\n",
      "856/856 [==============================] - 2s 3ms/step - loss: 4.3878 - acc: 0.7068 - mean_squared_error: 0.0103\n",
      "Epoch 90/100\n",
      "856/856 [==============================] - 5s 5ms/step - loss: 4.3930 - acc: 0.6717 - mean_squared_error: 0.0121\n",
      "Epoch 91/100\n",
      "856/856 [==============================] - 5s 6ms/step - loss: 4.3939 - acc: 0.7103 - mean_squared_error: 0.0128\n",
      "Epoch 92/100\n",
      "856/856 [==============================] - 5s 6ms/step - loss: 4.3875 - acc: 0.7173 - mean_squared_error: 0.0097\n",
      "Epoch 93/100\n",
      "856/856 [==============================] - 4s 5ms/step - loss: 4.3872 - acc: 0.7056 - mean_squared_error: 0.0089\n",
      "Epoch 94/100\n",
      "856/856 [==============================] - 4s 5ms/step - loss: 4.3886 - acc: 0.7161 - mean_squared_error: 0.0099\n",
      "Epoch 95/100\n",
      "856/856 [==============================] - 5s 5ms/step - loss: 4.3905 - acc: 0.6893 - mean_squared_error: 0.0109\n",
      "Epoch 96/100\n",
      "856/856 [==============================] - 4s 5ms/step - loss: 4.3897 - acc: 0.7091 - mean_squared_error: 0.0106\n",
      "Epoch 97/100\n",
      "856/856 [==============================] - 5s 6ms/step - loss: 4.3940 - acc: 0.6963 - mean_squared_error: 0.0127\n",
      "Epoch 98/100\n",
      "856/856 [==============================] - 5s 6ms/step - loss: 4.3905 - acc: 0.6963 - mean_squared_error: 0.0105\n",
      "Epoch 99/100\n",
      "856/856 [==============================] - 5s 6ms/step - loss: 4.3898 - acc: 0.7009 - mean_squared_error: 0.0105\n",
      "Epoch 100/100\n",
      "856/856 [==============================] - 5s 6ms/step - loss: 4.3931 - acc: 0.6986 - mean_squared_error: 0.0122\n"
     ]
    }
   ],
   "source": [
    "#Initializing Neural Network\n",
    "classifier = Sequential()\n",
    "classifier.reset_states()\n",
    "\n",
    "# Adding the input layer and the first hidden layer\n",
    "classifier.add(Dense(output_dim = 300, init = 'uniform', activation = 'relu', input_dim = 7514))\n",
    "\n",
    "# Adding the second hidden layer\n",
    "classifier.add(Dense(output_dim = 150, init = 'uniform', activation = 'relu'))\n",
    "\n",
    "# Adding the output layer\n",
    "classifier.add(Dense(output_dim = 5, init = 'uniform', activation = 'sigmoid'))\n",
    "\n",
    "# Compiling Neural Network\n",
    "classifier.compile(optimizer = 'adam', loss = 'categorical_crossentropy', metrics = ['accuracy', 'mse'])\n",
    "\n",
    "# Fitting our model\n",
    "result = classifier.fit(train_X, train_y, batch_size=10, nb_epoch=100)\n"
   ]
  },
  {
   "cell_type": "code",
   "execution_count": 15,
   "metadata": {},
   "outputs": [
    {
     "name": "stdout",
     "output_type": "stream",
     "text": [
      "_________________________________________________________________\n",
      "Layer (type)                 Output Shape              Param #   \n",
      "=================================================================\n",
      "dense_1 (Dense)              (None, 300)               2254500   \n",
      "_________________________________________________________________\n",
      "dense_2 (Dense)              (None, 150)               45150     \n",
      "_________________________________________________________________\n",
      "dense_3 (Dense)              (None, 5)                 755       \n",
      "=================================================================\n",
      "Total params: 2,300,405\n",
      "Trainable params: 2,300,405\n",
      "Non-trainable params: 0\n",
      "_________________________________________________________________\n"
     ]
    }
   ],
   "source": [
    "classifier.summary()"
   ]
  },
  {
   "cell_type": "code",
   "execution_count": 118,
   "metadata": {},
   "outputs": [],
   "source": [
    "prediction = classifier.predict(test_X).T\n",
    "#np.save('machine_data', prediction)"
   ]
  },
  {
   "cell_type": "code",
   "execution_count": 114,
   "metadata": {
    "scrolled": false
   },
   "outputs": [
    {
     "data": {
      "image/png": "[encoded data removed]",
      "text/plain": [
       "<Figure size 864x432 with 1 Axes>"
      ]
     },
     "metadata": {},
     "output_type": "display_data"
    },
    {
     "data": {
      "image/png": "[encoded data removed]",
      "text/plain": [
       "<Figure size 864x432 with 1 Axes>"
      ]
     },
     "metadata": {},
     "output_type": "display_data"
    },
    {
     "data": {
      "image/png": "[encoded data removed]",
      "text/plain": [
       "<Figure size 864x432 with 1 Axes>"
      ]
     },
     "metadata": {},
     "output_type": "display_data"
    },
    {
     "data": {
      "image/png": "[encoded data removed]",
      "text/plain": [
       "<Figure size 864x432 with 1 Axes>"
      ]
     },
     "metadata": {},
     "output_type": "display_data"
    },
    {
     "data": {
      "image/png": "[encoded data removed]",
      "text/plain": [
       "<Figure size 864x432 with 1 Axes>"
      ]
     },
     "metadata": {},
     "output_type": "display_data"
    }
   ],
   "source": [
    "labels = ['TEFF', \"LOGG\", \"FE_H\", \"MG_FE\", \"SI_FE\"]\n",
    "xlims = [(0, 1), (0, 1), (0, 1), (0.1,1), (0.3, 1)]\n",
    "ylims = [(0, 1), (0, 1), (0, 1), (0.1, 1), (0.3, 1)]\n",
    "for i in range(len(test_y.T)):\n",
    "    plt.figure()\n",
    "    plt.scatter(test_y.T[i], classifier.predict(test_X).T[i],alpha=0.8,s=3)\n",
    "    plt.plot([0.0, 1.0], [0.0,1.0], c='r')\n",
    "    plt.xlim(xlims[i])\n",
    "    plt.ylim(ylims[i])\n",
    "    plt.xlabel(f\"Test {labels[i]}\")\n",
    "    plt.ylabel(f\"Predicted {labels[i]}\")\n",
    "    if i == 0:\n",
    "        plt.title('Test Labels vs Predicted Labels', fontsize=20)\n",
    "plt.tight_layout();"
   ]
  },
  {
   "cell_type": "code",
   "execution_count": 117,
   "metadata": {},
   "outputs": [
    {
     "name": "stdout",
     "output_type": "stream",
     "text": [
      "The median absolute residual from my neural network compared to the \n",
      " allStar values for TEFF is 82.556 K\n",
      "The median absolute residual from my neural network compared to the \n",
      " allStar values for LOGG is 0.264  \n",
      "The median absolute residual from my neural network compared to the \n",
      " allStar values for FE_H is 0.08 dex\n",
      "The median absolute residual from my neural network compared to the \n",
      " allStar values for MG_FE is 0.057 dex\n",
      "The median absolute residual from my neural network compared to the \n",
      " allStar values for SI_FE is 0.057 dex\n"
     ]
    }
   ],
   "source": [
    "units  = ['K', ' ', 'dex', 'dex', 'dex']\n",
    "for i in range(len(labels)):\n",
    "    print(f\"\"\"The median absolute residual from my neural network compared to the \\n allStar values for {labels[i]} is {round(np.median(np.abs(un_min_normalize(labels[i], test_y.T[i]) - un_min_normalize(labels[i], prediction[i]))), 3)} {units[i]}\"\"\")"
   ]
  }
 ],
 "metadata": {
  "kernelspec": {
   "display_name": "Python 3",
   "language": "python",
   "name": "python3"
  },
  "language_info": {
   "codemirror_mode": {
    "name": "ipython",
    "version": 3
   },
   "file_extension": ".py",
   "mimetype": "text/x-python",
   "name": "python",
   "nbconvert_exporter": "python",
   "pygments_lexer": "ipython3",
   "version": "3.6.9"
  }
 },
 "nbformat": 4,
 "nbformat_minor": 2
}
